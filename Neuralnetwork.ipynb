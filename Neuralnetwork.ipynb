{
  "nbformat": 4,
  "nbformat_minor": 0,
  "metadata": {
    "colab": {
      "provenance": []
    },
    "kernelspec": {
      "name": "python3",
      "display_name": "Python 3"
    },
    "language_info": {
      "name": "python"
    }
  },
  "cells": [
    {
      "cell_type": "code",
      "execution_count": 1,
      "metadata": {
        "colab": {
          "base_uri": "https://localhost:8080/"
        },
        "id": "yOMwHhxPOjxT",
        "outputId": "a3d33991-d7ba-44d3-a247-108332258d36"
      },
      "outputs": [
        {
          "output_type": "stream",
          "name": "stdout",
          "text": [
            "Epoch 0, Loss: 0.2779\n",
            "Epoch 1000, Loss: 0.2288\n",
            "Epoch 2000, Loss: 0.1187\n",
            "Epoch 3000, Loss: 0.0268\n",
            "Epoch 4000, Loss: 0.0113\n",
            "Epoch 5000, Loss: 0.0067\n",
            "Epoch 6000, Loss: 0.0047\n",
            "Epoch 7000, Loss: 0.0035\n",
            "Epoch 8000, Loss: 0.0028\n",
            "Epoch 9000, Loss: 0.0023\n",
            "Final predictions:\n",
            "[[0.0270804 ]\n",
            " [0.95624716]\n",
            " [0.95134667]\n",
            " [0.05428041]]\n"
          ]
        }
      ],
      "source": [
        "import numpy as np\n",
        "\n",
        "class NeuralNetwork:\n",
        "    def __init__(self, input_size, hidden_size, output_size):\n",
        "        # Initialize weights and biases randomly\n",
        "        self.weights_input_hidden = np.random.randn(input_size, hidden_size)\n",
        "        self.bias_input_hidden = np.zeros((1, hidden_size))\n",
        "        self.weights_hidden_output = np.random.randn(hidden_size, output_size)\n",
        "        self.bias_hidden_output = np.zeros((1, output_size))\n",
        "\n",
        "    def sigmoid(self, x):\n",
        "        return 1 / (1 + np.exp(-x))\n",
        "\n",
        "    def sigmoid_derivative(self, x):\n",
        "        return x * (1 - x)\n",
        "\n",
        "    def forward(self, X):\n",
        "        # Forward propagation through the network\n",
        "        self.hidden_input = np.dot(X, self.weights_input_hidden) + self.bias_input_hidden\n",
        "        self.hidden_output = self.sigmoid(self.hidden_input)\n",
        "        self.output_input = np.dot(self.hidden_output, self.weights_hidden_output) + self.bias_hidden_output\n",
        "        self.output = self.sigmoid(self.output_input)\n",
        "        return self.output\n",
        "\n",
        "    def backward(self, X, y, output, learning_rate):\n",
        "        # Backpropagation through the network\n",
        "        self.output_error = y - output\n",
        "        self.output_delta = self.output_error * self.sigmoid_derivative(output)\n",
        "        self.hidden_error = self.output_delta.dot(self.weights_hidden_output.T)\n",
        "        self.hidden_delta = self.hidden_error * self.sigmoid_derivative(self.hidden_output)\n",
        "\n",
        "        # Update weights and biases\n",
        "        self.weights_hidden_output += self.hidden_output.T.dot(self.output_delta) * learning_rate\n",
        "        self.bias_hidden_output += np.sum(self.output_delta, axis=0, keepdims=True) * learning_rate\n",
        "        self.weights_input_hidden += X.T.dot(self.hidden_delta) * learning_rate\n",
        "        self.bias_input_hidden += np.sum(self.hidden_delta, axis=0, keepdims=True) * learning_rate\n",
        "\n",
        "    def train(self, X, y, epochs, learning_rate):\n",
        "        for epoch in range(epochs):\n",
        "            output = self.forward(X)\n",
        "            self.backward(X, y, output, learning_rate)\n",
        "            if epoch % 1000 == 0:\n",
        "                loss = np.mean(np.square(y - output))\n",
        "                print(f\"Epoch {epoch}, Loss: {loss:.4f}\")\n",
        "\n",
        "if __name__ == \"__main__\":\n",
        "    # Example usage\n",
        "    X = np.array([[0, 0], [0, 1], [1, 0], [1, 1]])  # Input\n",
        "    y = np.array([[0], [1], [1], [0]])             # Output\n",
        "\n",
        "    # Initialize neural network\n",
        "    input_size = 2\n",
        "    hidden_size = 4\n",
        "    output_size = 1\n",
        "    neural_network = NeuralNetwork(input_size, hidden_size, output_size)\n",
        "\n",
        "    # Train the neural network\n",
        "    epochs = 10000\n",
        "    learning_rate = 0.1\n",
        "    neural_network.train(X, y, epochs, learning_rate)\n",
        "\n",
        "    # Test the trained network\n",
        "    print(\"Final predictions:\")\n",
        "    print(neural_network.forward(X))\n"
      ]
    },
    {
      "cell_type": "code",
      "source": [],
      "metadata": {
        "id": "miItOPy_OkrC"
      },
      "execution_count": null,
      "outputs": []
    }
  ]
}